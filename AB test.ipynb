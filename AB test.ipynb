{
 "cells": [
  {
   "cell_type": "markdown",
   "id": "12cade17",
   "metadata": {},
   "source": [
    "## A/B Testing for E-Commerce Fashion Brand¶\n",
    "To practice skills in A/B testing, I utilized a dataset designed for this purpose and created a fictional backstory for the company I will analyze.\n",
    "\n",
    "ChicBeads\n",
    "ChicBeads, a sister store to a popular online fashion retailer known for its trendy and affordable clothing, specializes in creating colorful beaded jewelry that complements many of the outfits sold at its sister store.\n",
    "\n",
    "## Campaign Details:\n",
    "- Control Campaign: The control campaign focused on traditional display ads featuring static images of their latest clothing collection.\n",
    "- Test Campaign: The test campaign experimented with video ads showcasing short fashion shows and styling tips from influencers.\n",
    "\n",
    "### Hypothesis: The Test Campaign will lead to a higher number of purchases compared to the Control Campaign due to different marketing strategies."
   ]
  },
  {
   "cell_type": "markdown",
   "id": "81222295",
   "metadata": {},
   "source": [
    "## Objectives\n",
    "Primary Objective: Determine if there is a significant difference in the number of purchases between different campaigns ,Assess the impact of the campaigns on other metrics such as Website Clicks, Reach, and Add to Cart.\n",
    "\n",
    "### Metrics:\n",
    "\n",
    "- Number of purchases (key metric)\n",
    "- AddtoCart\n",
    "- WebsiteClicks\n",
    "- Reach\n",
    "- Cost Per Acquisition (CPA)\n",
    "- Return on Investment (ROI)\n",
    "- Click-Through Rate (CTR)\n",
    "- Conversion Rate"
   ]
  },
  {
   "cell_type": "code",
   "execution_count": 1,
   "id": "b84f9803",
   "metadata": {},
   "outputs": [],
   "source": [
    "import numpy as np\n",
    "import pandas as pd\n",
    "import matplotlib.pyplot as plt\n",
    "import seaborn as sns\n",
    "\n",
    "import warnings\n",
    "warnings.filterwarnings(\"ignore\")\n"
   ]
  },
  {
   "cell_type": "code",
   "execution_count": 2,
   "id": "05779052",
   "metadata": {},
   "outputs": [],
   "source": [
    "control = pd.read_csv(\"control_group.csv\", sep =\";\")\n",
    "test = pd.read_csv(\"test_group.csv\", sep = \";\")"
   ]
  },
  {
   "cell_type": "code",
   "execution_count": 3,
   "id": "034c40ff",
   "metadata": {},
   "outputs": [
    {
     "data": {
      "text/html": [
       "<div>\n",
       "<style scoped>\n",
       "    .dataframe tbody tr th:only-of-type {\n",
       "        vertical-align: middle;\n",
       "    }\n",
       "\n",
       "    .dataframe tbody tr th {\n",
       "        vertical-align: top;\n",
       "    }\n",
       "\n",
       "    .dataframe thead th {\n",
       "        text-align: right;\n",
       "    }\n",
       "</style>\n",
       "<table border=\"1\" class=\"dataframe\">\n",
       "  <thead>\n",
       "    <tr style=\"text-align: right;\">\n",
       "      <th></th>\n",
       "      <th>Campaign Name</th>\n",
       "      <th>Date</th>\n",
       "      <th>Spend [USD]</th>\n",
       "      <th># of Impressions</th>\n",
       "      <th>Reach</th>\n",
       "      <th># of Website Clicks</th>\n",
       "      <th># of Searches</th>\n",
       "      <th># of View Content</th>\n",
       "      <th># of Add to Cart</th>\n",
       "      <th># of Purchase</th>\n",
       "    </tr>\n",
       "  </thead>\n",
       "  <tbody>\n",
       "    <tr>\n",
       "      <th>0</th>\n",
       "      <td>Control Campaign</td>\n",
       "      <td>1.08.2019</td>\n",
       "      <td>2280</td>\n",
       "      <td>82702.0</td>\n",
       "      <td>56930.0</td>\n",
       "      <td>7016.0</td>\n",
       "      <td>2290.0</td>\n",
       "      <td>2159.0</td>\n",
       "      <td>1819.0</td>\n",
       "      <td>618.0</td>\n",
       "    </tr>\n",
       "    <tr>\n",
       "      <th>1</th>\n",
       "      <td>Control Campaign</td>\n",
       "      <td>2.08.2019</td>\n",
       "      <td>1757</td>\n",
       "      <td>121040.0</td>\n",
       "      <td>102513.0</td>\n",
       "      <td>8110.0</td>\n",
       "      <td>2033.0</td>\n",
       "      <td>1841.0</td>\n",
       "      <td>1219.0</td>\n",
       "      <td>511.0</td>\n",
       "    </tr>\n",
       "    <tr>\n",
       "      <th>2</th>\n",
       "      <td>Control Campaign</td>\n",
       "      <td>3.08.2019</td>\n",
       "      <td>2343</td>\n",
       "      <td>131711.0</td>\n",
       "      <td>110862.0</td>\n",
       "      <td>6508.0</td>\n",
       "      <td>1737.0</td>\n",
       "      <td>1549.0</td>\n",
       "      <td>1134.0</td>\n",
       "      <td>372.0</td>\n",
       "    </tr>\n",
       "    <tr>\n",
       "      <th>3</th>\n",
       "      <td>Control Campaign</td>\n",
       "      <td>4.08.2019</td>\n",
       "      <td>1940</td>\n",
       "      <td>72878.0</td>\n",
       "      <td>61235.0</td>\n",
       "      <td>3065.0</td>\n",
       "      <td>1042.0</td>\n",
       "      <td>982.0</td>\n",
       "      <td>1183.0</td>\n",
       "      <td>340.0</td>\n",
       "    </tr>\n",
       "    <tr>\n",
       "      <th>4</th>\n",
       "      <td>Control Campaign</td>\n",
       "      <td>5.08.2019</td>\n",
       "      <td>1835</td>\n",
       "      <td>NaN</td>\n",
       "      <td>NaN</td>\n",
       "      <td>NaN</td>\n",
       "      <td>NaN</td>\n",
       "      <td>NaN</td>\n",
       "      <td>NaN</td>\n",
       "      <td>NaN</td>\n",
       "    </tr>\n",
       "  </tbody>\n",
       "</table>\n",
       "</div>"
      ],
      "text/plain": [
       "      Campaign Name       Date  Spend [USD]  # of Impressions     Reach  \\\n",
       "0  Control Campaign  1.08.2019         2280           82702.0   56930.0   \n",
       "1  Control Campaign  2.08.2019         1757          121040.0  102513.0   \n",
       "2  Control Campaign  3.08.2019         2343          131711.0  110862.0   \n",
       "3  Control Campaign  4.08.2019         1940           72878.0   61235.0   \n",
       "4  Control Campaign  5.08.2019         1835               NaN       NaN   \n",
       "\n",
       "   # of Website Clicks  # of Searches  # of View Content  # of Add to Cart  \\\n",
       "0               7016.0         2290.0             2159.0            1819.0   \n",
       "1               8110.0         2033.0             1841.0            1219.0   \n",
       "2               6508.0         1737.0             1549.0            1134.0   \n",
       "3               3065.0         1042.0              982.0            1183.0   \n",
       "4                  NaN            NaN                NaN               NaN   \n",
       "\n",
       "   # of Purchase  \n",
       "0          618.0  \n",
       "1          511.0  \n",
       "2          372.0  \n",
       "3          340.0  \n",
       "4            NaN  "
      ]
     },
     "execution_count": 3,
     "metadata": {},
     "output_type": "execute_result"
    }
   ],
   "source": [
    "control.head()"
   ]
  },
  {
   "cell_type": "code",
   "execution_count": 4,
   "id": "3c44722c",
   "metadata": {},
   "outputs": [
    {
     "data": {
      "text/html": [
       "<div>\n",
       "<style scoped>\n",
       "    .dataframe tbody tr th:only-of-type {\n",
       "        vertical-align: middle;\n",
       "    }\n",
       "\n",
       "    .dataframe tbody tr th {\n",
       "        vertical-align: top;\n",
       "    }\n",
       "\n",
       "    .dataframe thead th {\n",
       "        text-align: right;\n",
       "    }\n",
       "</style>\n",
       "<table border=\"1\" class=\"dataframe\">\n",
       "  <thead>\n",
       "    <tr style=\"text-align: right;\">\n",
       "      <th></th>\n",
       "      <th>Campaign Name</th>\n",
       "      <th>Date</th>\n",
       "      <th>Spend [USD]</th>\n",
       "      <th># of Impressions</th>\n",
       "      <th>Reach</th>\n",
       "      <th># of Website Clicks</th>\n",
       "      <th># of Searches</th>\n",
       "      <th># of View Content</th>\n",
       "      <th># of Add to Cart</th>\n",
       "      <th># of Purchase</th>\n",
       "    </tr>\n",
       "  </thead>\n",
       "  <tbody>\n",
       "    <tr>\n",
       "      <th>0</th>\n",
       "      <td>Test Campaign</td>\n",
       "      <td>1.08.2019</td>\n",
       "      <td>3008</td>\n",
       "      <td>39550</td>\n",
       "      <td>35820</td>\n",
       "      <td>3038</td>\n",
       "      <td>1946</td>\n",
       "      <td>1069</td>\n",
       "      <td>894</td>\n",
       "      <td>255</td>\n",
       "    </tr>\n",
       "    <tr>\n",
       "      <th>1</th>\n",
       "      <td>Test Campaign</td>\n",
       "      <td>2.08.2019</td>\n",
       "      <td>2542</td>\n",
       "      <td>100719</td>\n",
       "      <td>91236</td>\n",
       "      <td>4657</td>\n",
       "      <td>2359</td>\n",
       "      <td>1548</td>\n",
       "      <td>879</td>\n",
       "      <td>677</td>\n",
       "    </tr>\n",
       "    <tr>\n",
       "      <th>2</th>\n",
       "      <td>Test Campaign</td>\n",
       "      <td>3.08.2019</td>\n",
       "      <td>2365</td>\n",
       "      <td>70263</td>\n",
       "      <td>45198</td>\n",
       "      <td>7885</td>\n",
       "      <td>2572</td>\n",
       "      <td>2367</td>\n",
       "      <td>1268</td>\n",
       "      <td>578</td>\n",
       "    </tr>\n",
       "    <tr>\n",
       "      <th>3</th>\n",
       "      <td>Test Campaign</td>\n",
       "      <td>4.08.2019</td>\n",
       "      <td>2710</td>\n",
       "      <td>78451</td>\n",
       "      <td>25937</td>\n",
       "      <td>4216</td>\n",
       "      <td>2216</td>\n",
       "      <td>1437</td>\n",
       "      <td>566</td>\n",
       "      <td>340</td>\n",
       "    </tr>\n",
       "    <tr>\n",
       "      <th>4</th>\n",
       "      <td>Test Campaign</td>\n",
       "      <td>5.08.2019</td>\n",
       "      <td>2297</td>\n",
       "      <td>114295</td>\n",
       "      <td>95138</td>\n",
       "      <td>5863</td>\n",
       "      <td>2106</td>\n",
       "      <td>858</td>\n",
       "      <td>956</td>\n",
       "      <td>768</td>\n",
       "    </tr>\n",
       "  </tbody>\n",
       "</table>\n",
       "</div>"
      ],
      "text/plain": [
       "   Campaign Name       Date  Spend [USD]  # of Impressions  Reach  \\\n",
       "0  Test Campaign  1.08.2019         3008             39550  35820   \n",
       "1  Test Campaign  2.08.2019         2542            100719  91236   \n",
       "2  Test Campaign  3.08.2019         2365             70263  45198   \n",
       "3  Test Campaign  4.08.2019         2710             78451  25937   \n",
       "4  Test Campaign  5.08.2019         2297            114295  95138   \n",
       "\n",
       "   # of Website Clicks  # of Searches  # of View Content  # of Add to Cart  \\\n",
       "0                 3038           1946               1069               894   \n",
       "1                 4657           2359               1548               879   \n",
       "2                 7885           2572               2367              1268   \n",
       "3                 4216           2216               1437               566   \n",
       "4                 5863           2106                858               956   \n",
       "\n",
       "   # of Purchase  \n",
       "0            255  \n",
       "1            677  \n",
       "2            578  \n",
       "3            340  \n",
       "4            768  "
      ]
     },
     "execution_count": 4,
     "metadata": {},
     "output_type": "execute_result"
    }
   ],
   "source": [
    "test.head()"
   ]
  },
  {
   "cell_type": "code",
   "execution_count": 5,
   "id": "4e6a1527",
   "metadata": {},
   "outputs": [
    {
     "name": "stdout",
     "output_type": "stream",
     "text": [
      "<class 'pandas.core.frame.DataFrame'>\n",
      "RangeIndex: 30 entries, 0 to 29\n",
      "Data columns (total 10 columns):\n",
      " #   Column               Non-Null Count  Dtype  \n",
      "---  ------               --------------  -----  \n",
      " 0   Campaign Name        30 non-null     object \n",
      " 1   Date                 30 non-null     object \n",
      " 2   Spend [USD]          30 non-null     int64  \n",
      " 3   # of Impressions     29 non-null     float64\n",
      " 4   Reach                29 non-null     float64\n",
      " 5   # of Website Clicks  29 non-null     float64\n",
      " 6   # of Searches        29 non-null     float64\n",
      " 7   # of View Content    29 non-null     float64\n",
      " 8   # of Add to Cart     29 non-null     float64\n",
      " 9   # of Purchase        29 non-null     float64\n",
      "dtypes: float64(7), int64(1), object(2)\n",
      "memory usage: 2.5+ KB\n"
     ]
    },
    {
     "data": {
      "text/html": [
       "<div>\n",
       "<style scoped>\n",
       "    .dataframe tbody tr th:only-of-type {\n",
       "        vertical-align: middle;\n",
       "    }\n",
       "\n",
       "    .dataframe tbody tr th {\n",
       "        vertical-align: top;\n",
       "    }\n",
       "\n",
       "    .dataframe thead th {\n",
       "        text-align: right;\n",
       "    }\n",
       "</style>\n",
       "<table border=\"1\" class=\"dataframe\">\n",
       "  <thead>\n",
       "    <tr style=\"text-align: right;\">\n",
       "      <th></th>\n",
       "      <th>Spend [USD]</th>\n",
       "      <th># of Impressions</th>\n",
       "      <th>Reach</th>\n",
       "      <th># of Website Clicks</th>\n",
       "      <th># of Searches</th>\n",
       "      <th># of View Content</th>\n",
       "      <th># of Add to Cart</th>\n",
       "      <th># of Purchase</th>\n",
       "    </tr>\n",
       "  </thead>\n",
       "  <tbody>\n",
       "    <tr>\n",
       "      <th>count</th>\n",
       "      <td>30.000000</td>\n",
       "      <td>29.000000</td>\n",
       "      <td>29.000000</td>\n",
       "      <td>29.000000</td>\n",
       "      <td>29.000000</td>\n",
       "      <td>29.000000</td>\n",
       "      <td>29.000000</td>\n",
       "      <td>29.000000</td>\n",
       "    </tr>\n",
       "    <tr>\n",
       "      <th>mean</th>\n",
       "      <td>2288.433333</td>\n",
       "      <td>109559.758621</td>\n",
       "      <td>88844.931034</td>\n",
       "      <td>5320.793103</td>\n",
       "      <td>2221.310345</td>\n",
       "      <td>1943.793103</td>\n",
       "      <td>1300.000000</td>\n",
       "      <td>522.793103</td>\n",
       "    </tr>\n",
       "    <tr>\n",
       "      <th>std</th>\n",
       "      <td>367.334451</td>\n",
       "      <td>21688.922908</td>\n",
       "      <td>21832.349595</td>\n",
       "      <td>1757.369003</td>\n",
       "      <td>866.089368</td>\n",
       "      <td>777.545469</td>\n",
       "      <td>407.457973</td>\n",
       "      <td>185.028642</td>\n",
       "    </tr>\n",
       "    <tr>\n",
       "      <th>min</th>\n",
       "      <td>1757.000000</td>\n",
       "      <td>71274.000000</td>\n",
       "      <td>42859.000000</td>\n",
       "      <td>2277.000000</td>\n",
       "      <td>1001.000000</td>\n",
       "      <td>848.000000</td>\n",
       "      <td>442.000000</td>\n",
       "      <td>222.000000</td>\n",
       "    </tr>\n",
       "    <tr>\n",
       "      <th>25%</th>\n",
       "      <td>1945.500000</td>\n",
       "      <td>92029.000000</td>\n",
       "      <td>74192.000000</td>\n",
       "      <td>4085.000000</td>\n",
       "      <td>1615.000000</td>\n",
       "      <td>1249.000000</td>\n",
       "      <td>930.000000</td>\n",
       "      <td>372.000000</td>\n",
       "    </tr>\n",
       "    <tr>\n",
       "      <th>50%</th>\n",
       "      <td>2299.500000</td>\n",
       "      <td>113430.000000</td>\n",
       "      <td>91579.000000</td>\n",
       "      <td>5224.000000</td>\n",
       "      <td>2390.000000</td>\n",
       "      <td>1984.000000</td>\n",
       "      <td>1339.000000</td>\n",
       "      <td>501.000000</td>\n",
       "    </tr>\n",
       "    <tr>\n",
       "      <th>75%</th>\n",
       "      <td>2532.000000</td>\n",
       "      <td>121332.000000</td>\n",
       "      <td>102479.000000</td>\n",
       "      <td>6628.000000</td>\n",
       "      <td>2711.000000</td>\n",
       "      <td>2421.000000</td>\n",
       "      <td>1641.000000</td>\n",
       "      <td>670.000000</td>\n",
       "    </tr>\n",
       "    <tr>\n",
       "      <th>max</th>\n",
       "      <td>3083.000000</td>\n",
       "      <td>145248.000000</td>\n",
       "      <td>127852.000000</td>\n",
       "      <td>8137.000000</td>\n",
       "      <td>4891.000000</td>\n",
       "      <td>4219.000000</td>\n",
       "      <td>1913.000000</td>\n",
       "      <td>800.000000</td>\n",
       "    </tr>\n",
       "  </tbody>\n",
       "</table>\n",
       "</div>"
      ],
      "text/plain": [
       "       Spend [USD]  # of Impressions          Reach  # of Website Clicks  \\\n",
       "count    30.000000         29.000000      29.000000            29.000000   \n",
       "mean   2288.433333     109559.758621   88844.931034          5320.793103   \n",
       "std     367.334451      21688.922908   21832.349595          1757.369003   \n",
       "min    1757.000000      71274.000000   42859.000000          2277.000000   \n",
       "25%    1945.500000      92029.000000   74192.000000          4085.000000   \n",
       "50%    2299.500000     113430.000000   91579.000000          5224.000000   \n",
       "75%    2532.000000     121332.000000  102479.000000          6628.000000   \n",
       "max    3083.000000     145248.000000  127852.000000          8137.000000   \n",
       "\n",
       "       # of Searches  # of View Content  # of Add to Cart  # of Purchase  \n",
       "count      29.000000          29.000000         29.000000      29.000000  \n",
       "mean     2221.310345        1943.793103       1300.000000     522.793103  \n",
       "std       866.089368         777.545469        407.457973     185.028642  \n",
       "min      1001.000000         848.000000        442.000000     222.000000  \n",
       "25%      1615.000000        1249.000000        930.000000     372.000000  \n",
       "50%      2390.000000        1984.000000       1339.000000     501.000000  \n",
       "75%      2711.000000        2421.000000       1641.000000     670.000000  \n",
       "max      4891.000000        4219.000000       1913.000000     800.000000  "
      ]
     },
     "execution_count": 5,
     "metadata": {},
     "output_type": "execute_result"
    }
   ],
   "source": [
    "# exploration of control campaign data\n",
    "control.info()\n",
    "control.describe()"
   ]
  },
  {
   "cell_type": "code",
   "execution_count": 6,
   "id": "f5ca0092",
   "metadata": {},
   "outputs": [
    {
     "name": "stdout",
     "output_type": "stream",
     "text": [
      "<class 'pandas.core.frame.DataFrame'>\n",
      "RangeIndex: 30 entries, 0 to 29\n",
      "Data columns (total 10 columns):\n",
      " #   Column               Non-Null Count  Dtype \n",
      "---  ------               --------------  ----- \n",
      " 0   Campaign Name        30 non-null     object\n",
      " 1   Date                 30 non-null     object\n",
      " 2   Spend [USD]          30 non-null     int64 \n",
      " 3   # of Impressions     30 non-null     int64 \n",
      " 4   Reach                30 non-null     int64 \n",
      " 5   # of Website Clicks  30 non-null     int64 \n",
      " 6   # of Searches        30 non-null     int64 \n",
      " 7   # of View Content    30 non-null     int64 \n",
      " 8   # of Add to Cart     30 non-null     int64 \n",
      " 9   # of Purchase        30 non-null     int64 \n",
      "dtypes: int64(8), object(2)\n",
      "memory usage: 2.5+ KB\n"
     ]
    },
    {
     "data": {
      "text/html": [
       "<div>\n",
       "<style scoped>\n",
       "    .dataframe tbody tr th:only-of-type {\n",
       "        vertical-align: middle;\n",
       "    }\n",
       "\n",
       "    .dataframe tbody tr th {\n",
       "        vertical-align: top;\n",
       "    }\n",
       "\n",
       "    .dataframe thead th {\n",
       "        text-align: right;\n",
       "    }\n",
       "</style>\n",
       "<table border=\"1\" class=\"dataframe\">\n",
       "  <thead>\n",
       "    <tr style=\"text-align: right;\">\n",
       "      <th></th>\n",
       "      <th>Spend [USD]</th>\n",
       "      <th># of Impressions</th>\n",
       "      <th>Reach</th>\n",
       "      <th># of Website Clicks</th>\n",
       "      <th># of Searches</th>\n",
       "      <th># of View Content</th>\n",
       "      <th># of Add to Cart</th>\n",
       "      <th># of Purchase</th>\n",
       "    </tr>\n",
       "  </thead>\n",
       "  <tbody>\n",
       "    <tr>\n",
       "      <th>count</th>\n",
       "      <td>30.000000</td>\n",
       "      <td>30.000000</td>\n",
       "      <td>30.000000</td>\n",
       "      <td>30.000000</td>\n",
       "      <td>30.000000</td>\n",
       "      <td>30.000000</td>\n",
       "      <td>30.000000</td>\n",
       "      <td>30.000000</td>\n",
       "    </tr>\n",
       "    <tr>\n",
       "      <th>mean</th>\n",
       "      <td>2563.066667</td>\n",
       "      <td>74584.800000</td>\n",
       "      <td>53491.566667</td>\n",
       "      <td>6032.333333</td>\n",
       "      <td>2418.966667</td>\n",
       "      <td>1858.000000</td>\n",
       "      <td>881.533333</td>\n",
       "      <td>521.233333</td>\n",
       "    </tr>\n",
       "    <tr>\n",
       "      <th>std</th>\n",
       "      <td>348.687681</td>\n",
       "      <td>32121.377422</td>\n",
       "      <td>28795.775752</td>\n",
       "      <td>1708.567263</td>\n",
       "      <td>388.742312</td>\n",
       "      <td>597.654669</td>\n",
       "      <td>347.584248</td>\n",
       "      <td>211.047745</td>\n",
       "    </tr>\n",
       "    <tr>\n",
       "      <th>min</th>\n",
       "      <td>1968.000000</td>\n",
       "      <td>22521.000000</td>\n",
       "      <td>10598.000000</td>\n",
       "      <td>3038.000000</td>\n",
       "      <td>1854.000000</td>\n",
       "      <td>858.000000</td>\n",
       "      <td>278.000000</td>\n",
       "      <td>238.000000</td>\n",
       "    </tr>\n",
       "    <tr>\n",
       "      <th>25%</th>\n",
       "      <td>2324.500000</td>\n",
       "      <td>47541.250000</td>\n",
       "      <td>31516.250000</td>\n",
       "      <td>4407.000000</td>\n",
       "      <td>2043.000000</td>\n",
       "      <td>1320.000000</td>\n",
       "      <td>582.500000</td>\n",
       "      <td>298.000000</td>\n",
       "    </tr>\n",
       "    <tr>\n",
       "      <th>50%</th>\n",
       "      <td>2584.000000</td>\n",
       "      <td>68853.500000</td>\n",
       "      <td>44219.500000</td>\n",
       "      <td>6242.500000</td>\n",
       "      <td>2395.500000</td>\n",
       "      <td>1881.000000</td>\n",
       "      <td>974.000000</td>\n",
       "      <td>500.000000</td>\n",
       "    </tr>\n",
       "    <tr>\n",
       "      <th>75%</th>\n",
       "      <td>2836.250000</td>\n",
       "      <td>99500.000000</td>\n",
       "      <td>78778.750000</td>\n",
       "      <td>7604.750000</td>\n",
       "      <td>2801.250000</td>\n",
       "      <td>2412.000000</td>\n",
       "      <td>1148.500000</td>\n",
       "      <td>701.000000</td>\n",
       "    </tr>\n",
       "    <tr>\n",
       "      <th>max</th>\n",
       "      <td>3112.000000</td>\n",
       "      <td>133771.000000</td>\n",
       "      <td>109834.000000</td>\n",
       "      <td>8264.000000</td>\n",
       "      <td>2978.000000</td>\n",
       "      <td>2801.000000</td>\n",
       "      <td>1391.000000</td>\n",
       "      <td>890.000000</td>\n",
       "    </tr>\n",
       "  </tbody>\n",
       "</table>\n",
       "</div>"
      ],
      "text/plain": [
       "       Spend [USD]  # of Impressions          Reach  # of Website Clicks  \\\n",
       "count    30.000000         30.000000      30.000000            30.000000   \n",
       "mean   2563.066667      74584.800000   53491.566667          6032.333333   \n",
       "std     348.687681      32121.377422   28795.775752          1708.567263   \n",
       "min    1968.000000      22521.000000   10598.000000          3038.000000   \n",
       "25%    2324.500000      47541.250000   31516.250000          4407.000000   \n",
       "50%    2584.000000      68853.500000   44219.500000          6242.500000   \n",
       "75%    2836.250000      99500.000000   78778.750000          7604.750000   \n",
       "max    3112.000000     133771.000000  109834.000000          8264.000000   \n",
       "\n",
       "       # of Searches  # of View Content  # of Add to Cart  # of Purchase  \n",
       "count      30.000000          30.000000         30.000000      30.000000  \n",
       "mean     2418.966667        1858.000000        881.533333     521.233333  \n",
       "std       388.742312         597.654669        347.584248     211.047745  \n",
       "min      1854.000000         858.000000        278.000000     238.000000  \n",
       "25%      2043.000000        1320.000000        582.500000     298.000000  \n",
       "50%      2395.500000        1881.000000        974.000000     500.000000  \n",
       "75%      2801.250000        2412.000000       1148.500000     701.000000  \n",
       "max      2978.000000        2801.000000       1391.000000     890.000000  "
      ]
     },
     "execution_count": 6,
     "metadata": {},
     "output_type": "execute_result"
    }
   ],
   "source": [
    "# exploration of test campaign data\n",
    "test.info()\n",
    "test.describe()"
   ]
  },
  {
   "cell_type": "markdown",
   "id": "fcbb884f",
   "metadata": {},
   "source": [
    "### Cleaning Steps:\n",
    "- Drop NAs\n",
    "- Change data type of columns in control table from float64 to int64\n",
    "- Combine two tables\n",
    "- Edit column names and Remove \"Campaign\" from Campaign Name column\n",
    "- Edit Date column"
   ]
  },
  {
   "cell_type": "code",
   "execution_count": 7,
   "id": "58450a6b",
   "metadata": {},
   "outputs": [],
   "source": [
    "control.dropna(inplace = True)"
   ]
  },
  {
   "cell_type": "code",
   "execution_count": 8,
   "id": "78fc8a4b",
   "metadata": {},
   "outputs": [
    {
     "name": "stdout",
     "output_type": "stream",
     "text": [
      "<class 'pandas.core.frame.DataFrame'>\n",
      "Index: 29 entries, 0 to 29\n",
      "Data columns (total 10 columns):\n",
      " #   Column               Non-Null Count  Dtype \n",
      "---  ------               --------------  ----- \n",
      " 0   Campaign Name        29 non-null     object\n",
      " 1   Date                 29 non-null     object\n",
      " 2   Spend [USD]          29 non-null     int64 \n",
      " 3   # of Impressions     29 non-null     int64 \n",
      " 4   Reach                29 non-null     int64 \n",
      " 5   # of Website Clicks  29 non-null     int64 \n",
      " 6   # of Searches        29 non-null     int64 \n",
      " 7   # of View Content    29 non-null     int64 \n",
      " 8   # of Add to Cart     29 non-null     int64 \n",
      " 9   # of Purchase        29 non-null     int64 \n",
      "dtypes: int64(8), object(2)\n",
      "memory usage: 2.5+ KB\n"
     ]
    }
   ],
   "source": [
    "change = ['# of Impressions', 'Reach','# of Website Clicks', '# of Searches',\n",
    "          '# of View Content','# of Add to Cart', '# of Purchase']\n",
    "\n",
    "for i in change:\n",
    "    control[i] = control[i].astype('int64')\n",
    "\n",
    "control.info()"
   ]
  },
  {
   "cell_type": "code",
   "execution_count": 9,
   "id": "f6f12e0c",
   "metadata": {},
   "outputs": [
    {
     "data": {
      "text/html": [
       "<div>\n",
       "<style scoped>\n",
       "    .dataframe tbody tr th:only-of-type {\n",
       "        vertical-align: middle;\n",
       "    }\n",
       "\n",
       "    .dataframe tbody tr th {\n",
       "        vertical-align: top;\n",
       "    }\n",
       "\n",
       "    .dataframe thead th {\n",
       "        text-align: right;\n",
       "    }\n",
       "</style>\n",
       "<table border=\"1\" class=\"dataframe\">\n",
       "  <thead>\n",
       "    <tr style=\"text-align: right;\">\n",
       "      <th></th>\n",
       "      <th>Campaign Name</th>\n",
       "      <th>Date</th>\n",
       "      <th>Spend [USD]</th>\n",
       "      <th># of Impressions</th>\n",
       "      <th>Reach</th>\n",
       "      <th># of Website Clicks</th>\n",
       "      <th># of Searches</th>\n",
       "      <th># of View Content</th>\n",
       "      <th># of Add to Cart</th>\n",
       "      <th># of Purchase</th>\n",
       "    </tr>\n",
       "  </thead>\n",
       "  <tbody>\n",
       "    <tr>\n",
       "      <th>0</th>\n",
       "      <td>Control Campaign</td>\n",
       "      <td>1.08.2019</td>\n",
       "      <td>2280</td>\n",
       "      <td>82702</td>\n",
       "      <td>56930</td>\n",
       "      <td>7016</td>\n",
       "      <td>2290</td>\n",
       "      <td>2159</td>\n",
       "      <td>1819</td>\n",
       "      <td>618</td>\n",
       "    </tr>\n",
       "    <tr>\n",
       "      <th>1</th>\n",
       "      <td>Control Campaign</td>\n",
       "      <td>2.08.2019</td>\n",
       "      <td>1757</td>\n",
       "      <td>121040</td>\n",
       "      <td>102513</td>\n",
       "      <td>8110</td>\n",
       "      <td>2033</td>\n",
       "      <td>1841</td>\n",
       "      <td>1219</td>\n",
       "      <td>511</td>\n",
       "    </tr>\n",
       "    <tr>\n",
       "      <th>2</th>\n",
       "      <td>Control Campaign</td>\n",
       "      <td>3.08.2019</td>\n",
       "      <td>2343</td>\n",
       "      <td>131711</td>\n",
       "      <td>110862</td>\n",
       "      <td>6508</td>\n",
       "      <td>1737</td>\n",
       "      <td>1549</td>\n",
       "      <td>1134</td>\n",
       "      <td>372</td>\n",
       "    </tr>\n",
       "    <tr>\n",
       "      <th>3</th>\n",
       "      <td>Control Campaign</td>\n",
       "      <td>4.08.2019</td>\n",
       "      <td>1940</td>\n",
       "      <td>72878</td>\n",
       "      <td>61235</td>\n",
       "      <td>3065</td>\n",
       "      <td>1042</td>\n",
       "      <td>982</td>\n",
       "      <td>1183</td>\n",
       "      <td>340</td>\n",
       "    </tr>\n",
       "    <tr>\n",
       "      <th>4</th>\n",
       "      <td>Control Campaign</td>\n",
       "      <td>6.08.2019</td>\n",
       "      <td>3083</td>\n",
       "      <td>109076</td>\n",
       "      <td>87998</td>\n",
       "      <td>4028</td>\n",
       "      <td>1709</td>\n",
       "      <td>1249</td>\n",
       "      <td>784</td>\n",
       "      <td>764</td>\n",
       "    </tr>\n",
       "  </tbody>\n",
       "</table>\n",
       "</div>"
      ],
      "text/plain": [
       "      Campaign Name       Date  Spend [USD]  # of Impressions   Reach  \\\n",
       "0  Control Campaign  1.08.2019         2280             82702   56930   \n",
       "1  Control Campaign  2.08.2019         1757            121040  102513   \n",
       "2  Control Campaign  3.08.2019         2343            131711  110862   \n",
       "3  Control Campaign  4.08.2019         1940             72878   61235   \n",
       "4  Control Campaign  6.08.2019         3083            109076   87998   \n",
       "\n",
       "   # of Website Clicks  # of Searches  # of View Content  # of Add to Cart  \\\n",
       "0                 7016           2290               2159              1819   \n",
       "1                 8110           2033               1841              1219   \n",
       "2                 6508           1737               1549              1134   \n",
       "3                 3065           1042                982              1183   \n",
       "4                 4028           1709               1249               784   \n",
       "\n",
       "   # of Purchase  \n",
       "0            618  \n",
       "1            511  \n",
       "2            372  \n",
       "3            340  \n",
       "4            764  "
      ]
     },
     "execution_count": 9,
     "metadata": {},
     "output_type": "execute_result"
    }
   ],
   "source": [
    "combined = pd.concat([control, test], ignore_index=True)\n",
    "combined.head()"
   ]
  },
  {
   "cell_type": "code",
   "execution_count": 10,
   "id": "02d60485",
   "metadata": {},
   "outputs": [
    {
     "data": {
      "text/plain": [
       "0    2019-08-01\n",
       "1    2019-08-02\n",
       "2    2019-08-03\n",
       "3    2019-08-04\n",
       "4    2019-08-06\n",
       "Name: Date, dtype: object"
      ]
     },
     "execution_count": 10,
     "metadata": {},
     "output_type": "execute_result"
    }
   ],
   "source": [
    "combined['Date'] = pd.to_datetime(combined['Date'], format='%d.%m.%Y').dt.date #\n",
    "combined['Date'].head()\n",
    "#.dt.date .dt.date returns a date object from the datetime object, which is a Python datetime.date type, not a pandas.Timestamp type.\n",
    "# if you don't include the .dt.date part , then the Date column will be converted into a full datetime object that includes both the date and a default time of 00:00:00 like output : 2023-08-25 00:00:00"
   ]
  },
  {
   "cell_type": "code",
   "execution_count": 11,
   "id": "01eed675",
   "metadata": {},
   "outputs": [
    {
     "name": "stdout",
     "output_type": "stream",
     "text": [
      "<class 'pandas.core.frame.DataFrame'>\n",
      "RangeIndex: 59 entries, 0 to 58\n",
      "Data columns (total 10 columns):\n",
      " #   Column               Non-Null Count  Dtype \n",
      "---  ------               --------------  ----- \n",
      " 0   Campaign Name        59 non-null     object\n",
      " 1   Date                 59 non-null     object\n",
      " 2   Spend [USD]          59 non-null     int64 \n",
      " 3   # of Impressions     59 non-null     int64 \n",
      " 4   Reach                59 non-null     int64 \n",
      " 5   # of Website Clicks  59 non-null     int64 \n",
      " 6   # of Searches        59 non-null     int64 \n",
      " 7   # of View Content    59 non-null     int64 \n",
      " 8   # of Add to Cart     59 non-null     int64 \n",
      " 9   # of Purchase        59 non-null     int64 \n",
      "dtypes: int64(8), object(2)\n",
      "memory usage: 4.7+ KB\n"
     ]
    }
   ],
   "source": [
    "combined.info()"
   ]
  },
  {
   "cell_type": "code",
   "execution_count": 16,
   "id": "22437b8c",
   "metadata": {},
   "outputs": [
    {
     "data": {
      "text/plain": [
       "Index(['Spend [USD]', '# of Impressions', 'Reach', '# of Website Clicks',\n",
       "       '# of Searches', '# of View Content', '# of Add to Cart',\n",
       "       '# of Purchase'],\n",
       "      dtype='object')"
      ]
     },
     "execution_count": 16,
     "metadata": {},
     "output_type": "execute_result"
    }
   ],
   "source": [
    "NumCols_combined = combined.select_dtypes(include=['int64'])\n",
    "num = NumCols_combined.columns\n",
    "num"
   ]
  },
  {
   "cell_type": "code",
   "execution_count": 17,
   "id": "d196a8d5",
   "metadata": {},
   "outputs": [
    {
     "data": {
      "image/png": "[encoded data removed]",
      "text/plain": [
       "<Figure size 1500x800 with 8 Axes>"
      ]
     },
     "metadata": {},
     "output_type": "display_data"
    }
   ],
   "source": [
    "fig, axs = plt.subplots(nrows=3, ncols=3, figsize=(15, 8))\n",
    "axs = axs.flatten()\n",
    "\n",
    "for i, col in enumerate(num):\n",
    "    sns.histplot(data=combined, x=col, kde=True, ax=axs[i])\n",
    "    axs[i].set_title(col)\n",
    "    axs[i].set_xlabel('')\n",
    "    axs[i].set_ylabel('')\n",
    "\n",
    "fig.delaxes(axs[8])\n",
    "plt.tight_layout()\n",
    "plt.show()"
   ]
  },
  {
   "cell_type": "markdown",
   "id": "af7f5aa8",
   "metadata": {},
   "source": [
    "- In the Control Campaign it seems there is stronger correlation between Spend and Impressions/Reach. This could imply that the Control Campaign reaches a broader audience but this is not necessarily resulting in more people adding to cart.\n",
    "\n",
    "- In the Test Campaign, Purchase and AddtoCart are stronlgy correlated. This is interesting because it not the case in the Control Campaign. But as we noted before, the control campaign reaches a broader audience, but does not necessarily increase the number of people adding to cart. But in the control campaign it seems that it is targeting a more specific audience which is resulting in a higher conversion rate.\n",
    "\n",
    "- In both the Control Campaign and Test Campaign, Searches and View Content are stronlgy correlated, which possibly indicates that the advertisement matched what customers were searing for.\n",
    "- In this campaign,the amount of spend does not necessarily correlate to higher Purchase rates. In fact, the amount of spend does not correlate to higher rates in most of the columns. But Spend does result in more people Adding to Cart (0.15) vs the Control Camaign (-0.065), and View Content (which makes sense as the test campaign aims to find customers and market products).\n",
    "- Interesting to note, that the correlation between Searches, Viewed Content, Add to Cart, and Purchase indicate that the advertisement effectively communicated what the product was to the customer and it was what the customer was searching for."
   ]
  },
  {
   "cell_type": "code",
   "execution_count": 28,
   "id": "b356ada5",
   "metadata": {},
   "outputs": [
    {
     "data": {
      "text/plain": [
       "<Axes: >"
      ]
     },
     "execution_count": 28,
     "metadata": {},
     "output_type": "execute_result"
    },
    {
     "data": {
      "image/png": "[encoded data removed]",
      "text/plain": [
       "<Figure size 900x500 with 1 Axes>"
      ]
     },
     "metadata": {},
     "output_type": "display_data"
    }
   ],
   "source": [
    "# Boxplots to Visualize Distributions and Outliers\n",
    "# I will plot Impressions and Reach seperately for the sake of readability because their values are a lot larger\n",
    "plt.figure(figsize=(9, 5))\n",
    "sns.boxplot(data=combined[[\"# of Impressions\" , \"Reach\"]],palette=\"coolwarm\" )"
   ]
  },
  {
   "cell_type": "code",
   "execution_count": 31,
   "id": "50ecd79e",
   "metadata": {},
   "outputs": [
    {
     "data": {
      "text/plain": [
       "<Axes: >"
      ]
     },
     "execution_count": 31,
     "metadata": {},
     "output_type": "execute_result"
    },
    {
     "data": {
      "image/png": "[encoded data removed]",
      "text/plain": [
       "<Figure size 900x500 with 1 Axes>"
      ]
     },
     "metadata": {},
     "output_type": "display_data"
    }
   ],
   "source": [
    "plt.figure(figsize=(9, 5))\n",
    "sns.boxplot(data=combined[['Spend [USD]','# of Website Clicks', '# of Searches', '# of View Content', \n",
    "                           '# of Add to Cart', '# of Purchase']],palette=\"coolwarm\" )"
   ]
  },
  {
   "cell_type": "code",
   "execution_count": 37,
   "id": "007cb164",
   "metadata": {},
   "outputs": [
    {
     "data": {
      "image/png": "[encoded data removed]",
      "text/plain": [
       "<Figure size 640x480 with 1 Axes>"
      ]
     },
     "metadata": {},
     "output_type": "display_data"
    }
   ],
   "source": [
    "# I am curious to see if the amount of money spent on a campaign effects the number of purchases made\n",
    "sns.histplot(data=combined, x=\"Spend [USD]\", weights=\"# of Purchase\", kde=True, hue=\"Campaign Name\", alpha = 0.5)\n",
    "plt.xlabel('Spend')\n",
    "plt.ylabel('Number of Purchases')\n",
    "plt.title('Spend vs. Number of Purchases')\n",
    "plt.show()"
   ]
  },
  {
   "cell_type": "markdown",
   "id": "80d12e3b",
   "metadata": {},
   "source": [
    "### Test Campaign\n",
    "Notice that it looks like the more money that is spent on the Test Campaign typically resulted in more purchases for the same cost as the Control Campaign. Also, this campaign has the max purchases out of the two, but it also has the min.\n",
    "### Control Campaign\n",
    "Notice that it looks like the less money that is spent on the Control Campaign typically resulted in more purchases for the same cost as the test group."
   ]
  },
  {
   "cell_type": "markdown",
   "id": "dd1cf870",
   "metadata": {},
   "source": [
    "## statistical Test"
   ]
  },
  {
   "cell_type": "markdown",
   "id": "72279179",
   "metadata": {},
   "source": [
    "#### Null Hypothesis\n",
    "- (H0): There is no difference in the number of purchases between the Test Campaign and the Control Campaign.\n",
    "#### Alternative Hypothesis\n",
    "- (H1): The Test Campaign results in a higher number of purchases compared to the Control Campaign."
   ]
  },
  {
   "cell_type": "markdown",
   "id": "69567eea",
   "metadata": {},
   "source": [
    "### we want to do either T-Test Or Mann-Whitney U Test.\n",
    "Purpose: Compare the means of numerical variables between the Test and Control campaigns.\n",
    "\n",
    "- T-Test: Use if the data is normally distributed.\n",
    "- Mann-Whitney U Test: Use if the data is not normally distributed."
   ]
  },
  {
   "cell_type": "code",
   "execution_count": 40,
   "id": "8f368195",
   "metadata": {},
   "outputs": [],
   "source": [
    "from scipy.stats import shapiro\n",
    "alpha = 0.05 # significance level\n",
    "\n",
    "def Check_if_Normally_Distributed(metric):\n",
    "    '''Function to check if the data in the desired metric is normally distributed'''\n",
    "    _, p_value = shapiro(combined[metric])\n",
    "    print(f'\\n{metric} Normality p-value: {p_value}')\n",
    "    if p_value > alpha:\n",
    "        print(f\"{metric} is approximately normally distributed.\")\n",
    "    else:\n",
    "        print(f\"{metric} is not normally distributed.\")"
   ]
  },
  {
   "cell_type": "code",
   "execution_count": 45,
   "id": "7e0d4467",
   "metadata": {},
   "outputs": [
    {
     "name": "stdout",
     "output_type": "stream",
     "text": [
      "\n",
      "# of Purchase Normality p-value: 0.00506342388689518\n",
      "# of Purchase is not normally distributed.\n"
     ]
    }
   ],
   "source": [
    "Check_if_Normally_Distributed('# of Purchase')"
   ]
  },
  {
   "cell_type": "code",
   "execution_count": 46,
   "id": "afffb5e4",
   "metadata": {},
   "outputs": [
    {
     "data": {
      "text/html": [
       "<div>\n",
       "<style scoped>\n",
       "    .dataframe tbody tr th:only-of-type {\n",
       "        vertical-align: middle;\n",
       "    }\n",
       "\n",
       "    .dataframe tbody tr th {\n",
       "        vertical-align: top;\n",
       "    }\n",
       "\n",
       "    .dataframe thead th {\n",
       "        text-align: right;\n",
       "    }\n",
       "</style>\n",
       "<table border=\"1\" class=\"dataframe\">\n",
       "  <thead>\n",
       "    <tr style=\"text-align: right;\">\n",
       "      <th></th>\n",
       "      <th>Campaign Name</th>\n",
       "      <th>Date</th>\n",
       "      <th>Spend [USD]</th>\n",
       "      <th># of Impressions</th>\n",
       "      <th>Reach</th>\n",
       "      <th># of Website Clicks</th>\n",
       "      <th># of Searches</th>\n",
       "      <th># of View Content</th>\n",
       "      <th># of Add to Cart</th>\n",
       "      <th># of Purchase</th>\n",
       "    </tr>\n",
       "  </thead>\n",
       "  <tbody>\n",
       "    <tr>\n",
       "      <th>0</th>\n",
       "      <td>Control Campaign</td>\n",
       "      <td>2019-08-01</td>\n",
       "      <td>2280</td>\n",
       "      <td>82702</td>\n",
       "      <td>56930</td>\n",
       "      <td>7016</td>\n",
       "      <td>2290</td>\n",
       "      <td>2159</td>\n",
       "      <td>1819</td>\n",
       "      <td>618</td>\n",
       "    </tr>\n",
       "    <tr>\n",
       "      <th>1</th>\n",
       "      <td>Control Campaign</td>\n",
       "      <td>2019-08-02</td>\n",
       "      <td>1757</td>\n",
       "      <td>121040</td>\n",
       "      <td>102513</td>\n",
       "      <td>8110</td>\n",
       "      <td>2033</td>\n",
       "      <td>1841</td>\n",
       "      <td>1219</td>\n",
       "      <td>511</td>\n",
       "    </tr>\n",
       "    <tr>\n",
       "      <th>2</th>\n",
       "      <td>Control Campaign</td>\n",
       "      <td>2019-08-03</td>\n",
       "      <td>2343</td>\n",
       "      <td>131711</td>\n",
       "      <td>110862</td>\n",
       "      <td>6508</td>\n",
       "      <td>1737</td>\n",
       "      <td>1549</td>\n",
       "      <td>1134</td>\n",
       "      <td>372</td>\n",
       "    </tr>\n",
       "    <tr>\n",
       "      <th>3</th>\n",
       "      <td>Control Campaign</td>\n",
       "      <td>2019-08-04</td>\n",
       "      <td>1940</td>\n",
       "      <td>72878</td>\n",
       "      <td>61235</td>\n",
       "      <td>3065</td>\n",
       "      <td>1042</td>\n",
       "      <td>982</td>\n",
       "      <td>1183</td>\n",
       "      <td>340</td>\n",
       "    </tr>\n",
       "    <tr>\n",
       "      <th>4</th>\n",
       "      <td>Control Campaign</td>\n",
       "      <td>2019-08-06</td>\n",
       "      <td>3083</td>\n",
       "      <td>109076</td>\n",
       "      <td>87998</td>\n",
       "      <td>4028</td>\n",
       "      <td>1709</td>\n",
       "      <td>1249</td>\n",
       "      <td>784</td>\n",
       "      <td>764</td>\n",
       "    </tr>\n",
       "  </tbody>\n",
       "</table>\n",
       "</div>"
      ],
      "text/plain": [
       "      Campaign Name        Date  Spend [USD]  # of Impressions   Reach  \\\n",
       "0  Control Campaign  2019-08-01         2280             82702   56930   \n",
       "1  Control Campaign  2019-08-02         1757            121040  102513   \n",
       "2  Control Campaign  2019-08-03         2343            131711  110862   \n",
       "3  Control Campaign  2019-08-04         1940             72878   61235   \n",
       "4  Control Campaign  2019-08-06         3083            109076   87998   \n",
       "\n",
       "   # of Website Clicks  # of Searches  # of View Content  # of Add to Cart  \\\n",
       "0                 7016           2290               2159              1819   \n",
       "1                 8110           2033               1841              1219   \n",
       "2                 6508           1737               1549              1134   \n",
       "3                 3065           1042                982              1183   \n",
       "4                 4028           1709               1249               784   \n",
       "\n",
       "   # of Purchase  \n",
       "0            618  \n",
       "1            511  \n",
       "2            372  \n",
       "3            340  \n",
       "4            764  "
      ]
     },
     "execution_count": 46,
     "metadata": {},
     "output_type": "execute_result"
    }
   ],
   "source": [
    "combined.head()"
   ]
  },
  {
   "cell_type": "code",
   "execution_count": 49,
   "id": "929fdbb0",
   "metadata": {},
   "outputs": [
    {
     "name": "stdout",
     "output_type": "stream",
     "text": [
      "\n",
      "# of Website Clicks Normality p-value: 0.009599894285202026\n",
      "# of Website Clicks is not normally distributed.\n",
      "\n",
      "Reach Normality p-value: 0.04987848922610283\n",
      "Reach is not normally distributed.\n",
      "\n",
      "# of Add to Cart Normality p-value: 0.26233530044555664\n",
      "# of Add to Cart is approximately normally distributed.\n"
     ]
    }
   ],
   "source": [
    "for metric in ['# of Website Clicks', 'Reach', '# of Add to Cart']:\n",
    "    Check_if_Normally_Distributed(metric)"
   ]
  },
  {
   "cell_type": "markdown",
   "id": "0cbc9da2",
   "metadata": {},
   "source": [
    "### Note that WebsiteClicks and Reach are not normally distributed, so I will use the Mann-Whitney U Test.\n",
    "### Note that AddtoCart is normally distributed so I will use the two sample t-test"
   ]
  },
  {
   "cell_type": "code",
   "execution_count": 68,
   "id": "6b9629ce",
   "metadata": {},
   "outputs": [],
   "source": [
    "# Mann-Whitney U Test\n",
    "from scipy.stats import mannwhitneyu\n",
    "\n",
    "def Run_Mann_Whitney(metric):\n",
    "    '''Function to run Mann-Whitney U Test with desired metric'''\n",
    "    test_metric = combined[combined['Campaign Name'] == 'Test Campaign'][metric]\n",
    "    control_metric  = combined[combined['Campaign Name'] == 'Control Campaign'][metric]\n",
    "    \n",
    "    stat, p_value = mannwhitneyu(test_metric, control_metric)\n",
    "    \n",
    "    print(f'\\nMann-Whitney U Test Statistic: {stat}')\n",
    "    print(f'p-value: {p_value}')\n",
    "\n",
    "    if p_value < alpha:\n",
    "        print(f\"There is a statistically significant difference in {metric} rates between the Test and Control campaigns.\")\n",
    "    else:\n",
    "        print(f\"There is no significant difference in {metric} rates between the Test and Control campaigns.\")"
   ]
  },
  {
   "cell_type": "code",
   "execution_count": 69,
   "id": "d6094fb4",
   "metadata": {},
   "outputs": [
    {
     "name": "stdout",
     "output_type": "stream",
     "text": [
      "\n",
      "Mann-Whitney U Test Statistic: 431.0\n",
      "p-value: 0.957674926453464\n",
      "There is no significant difference in # of Purchase rates between the Test and Control campaigns.\n"
     ]
    }
   ],
   "source": [
    "Run_Mann_Whitney('# of Purchase')"
   ]
  },
  {
   "cell_type": "markdown",
   "id": "a8de7f4a",
   "metadata": {},
   "source": [
    "Based on the results of the Mann-Whitney U Test:\n",
    "\n",
    "- The P-value is 0.9577, which is greater than the significance level of 0.05\n",
    "- Therefore, we fail to reject the null hypothesis"
   ]
  },
  {
   "cell_type": "code",
   "execution_count": 73,
   "id": "4a44de97",
   "metadata": {},
   "outputs": [
    {
     "name": "stdout",
     "output_type": "stream",
     "text": [
      "\n",
      "Mann-Whitney U Test Statistic: 533.0\n",
      "p-value: 0.13932985609787188\n",
      "There is no significant difference in # of Website Clicks rates between the Test and Control campaigns.\n",
      "\n",
      "Mann-Whitney U Test Statistic: 151.0\n",
      "p-value: 1.7202314302800555e-05\n",
      "There is a statistically significant difference in Reach rates between the Test and Control campaigns.\n"
     ]
    }
   ],
   "source": [
    "# same for other\n",
    "Run_Mann_Whitney('# of Website Clicks')\n",
    "Run_Mann_Whitney('Reach')"
   ]
  },
  {
   "cell_type": "markdown",
   "id": "2424954a",
   "metadata": {},
   "source": [
    "### T-test\n",
    "Purpose: to determine whether there are statistically significant differences between the means of two independent groups (assumes normality)"
   ]
  },
  {
   "cell_type": "code",
   "execution_count": 76,
   "id": "4ed67b48",
   "metadata": {},
   "outputs": [],
   "source": [
    "from scipy.stats import ttest_ind\n",
    "\n",
    "def Run_Two_Sample_TTest(metric):\n",
    "    '''Function to run Two Sample T-Test with desired metric'''\n",
    "    test_metric = combined[combined['Campaign Name'] == 'Test Campaign'][metric]\n",
    "    control_metric  = combined[combined['Campaign Name'] == 'Control Campaign'][metric]\n",
    "    \n",
    "    t_stat, p_value = ttest_ind(test_metric, control_metric) \n",
    "    print(f'\\nT-statistic: {t_stat}')\n",
    "    print(f'p-value: {p_value}')\n",
    "\n",
    "    if p_value < alpha:\n",
    "        print(f\"The difference in {metric} rates between Test and Control is statistically significant.\")\n",
    "    else:\n",
    "        print(f\"There is no significant difference in {metric} rates between Test and Control.\")"
   ]
  },
  {
   "cell_type": "code",
   "execution_count": 78,
   "id": "5077f010",
   "metadata": {},
   "outputs": [
    {
     "name": "stdout",
     "output_type": "stream",
     "text": [
      "\n",
      "T-statistic: -4.24906420944249\n",
      "p-value: 8.032960071149041e-05\n",
      "The difference in # of Add to Cart rates between Test and Control is statistically significant.\n"
     ]
    }
   ],
   "source": [
    "Run_Two_Sample_TTest('# of Add to Cart')"
   ]
  },
  {
   "cell_type": "markdown",
   "id": "d284c5d7",
   "metadata": {},
   "source": [
    "# Recap\n",
    "\n",
    "### From Visualizations\n",
    "- The control campaign reaches a broader audience, but that does not result in more people adding to cart. The test campaign seems to be more focused, resulting in a stronger correlation between Add to Cart and Purchase.\n",
    "- The advertisement seems to be matching what customers are searching for (this is inferred from the strong correlation between viewes, website clicks, add to cart)\n",
    "- The Control Campaign is more cost effective than the Test Campaign\n",
    "- The Test Campaign has the most sales \n",
    "- Recomened for Test Campaign to spend more, and Control Campaign to spend less.\n",
    "\n",
    "### Mann-Whitney U Test/ Two Sample T-Test\n",
    "- Purchase: There is no significant difference in Purchase rates between the Test and Control campaigns.\n",
    "- WebsiteClicks: There is no significant difference in WebsiteClicks rates between Test and Control.\n",
    "- Reach: The difference in Reach rates between Test and Control is statistically significant.\n",
    "- AddtoCart: The difference in AddtoCart rates between Test and Control is statistically significant.\n",
    "\n",
    "### Overall\n",
    "- Control Campaign: Although the Control Campaign effectively reaches a broader audience, this does not result in higher Add to Cart or Purchase rates. The campaign is more cost-effective, indicated by a higher ROI and Conversion Rate.\n",
    "- Test Campaign: The Test Campaign is more effective in converting viewers to customers, as seen in the strong correlation between Add to Cart and Purchase rates. The Test Campaign also has a higher CTR, indicating more engaged viewers.\n",
    "- Reach and Add to Cart: Both metrics show statistically significant differences favoring the Test Campaign. Purchase and Website Clicks: No significant differences between campaigns.\n",
    "- The return of the advertisement spend is higher in the Control Campaign than the test campaign"
   ]
  }
 ],
 "metadata": {
  "kernelspec": {
   "display_name": "Python 3 (ipykernel)",
   "language": "python",
   "name": "python3"
  },
  "language_info": {
   "codemirror_mode": {
    "name": "ipython",
    "version": 3
   },
   "file_extension": ".py",
   "mimetype": "text/x-python",
   "name": "python",
   "nbconvert_exporter": "python",
   "pygments_lexer": "ipython3",
   "version": "3.11.5"
  }
 },
 "nbformat": 4,
 "nbformat_minor": 5
}
